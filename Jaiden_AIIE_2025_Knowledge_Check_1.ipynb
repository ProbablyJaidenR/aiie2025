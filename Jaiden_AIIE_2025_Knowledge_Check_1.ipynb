{
  "nbformat": 4,
  "nbformat_minor": 0,
  "metadata": {
    "colab": {
      "provenance": []
    },
    "kernelspec": {
      "name": "python3",
      "display_name": "Python 3"
    },
    "language_info": {
      "name": "python"
    }
  },
  "cells": [
    {
      "cell_type": "markdown",
      "metadata": {
        "id": "9Dj8pYHCHUMI"
      },
      "source": [
        "##Knowlwdge Check - 1\n"
      ]
    },
    {
      "cell_type": "markdown",
      "metadata": {
        "id": "hIzo8lkOm03D"
      },
      "source": [
        "### Printing output"
      ]
    },
    {
      "cell_type": "markdown",
      "metadata": {
        "id": "7AKKps5JXjPH"
      },
      "source": [
        "1 - Using print(), print your name and city following the format:\n",
        "\n",
        "        Name : Angela\n",
        "        City : New York\n"
      ]
    },
    {
      "cell_type": "code",
      "metadata": {
        "id": "ixFUad4Mm0Ei",
        "colab": {
          "base_uri": "https://localhost:8080/"
        },
        "outputId": "fa01a83b-ae93-49d8-990f-2c1f8977ee77"
      },
      "source": [
        "print(\"Name: Jaiden\")\n",
        "print(\"City: New York\")"
      ],
      "execution_count": 1,
      "outputs": [
        {
          "output_type": "stream",
          "name": "stdout",
          "text": [
            "Name: Jaiden\n",
            "City: New York\n"
          ]
        }
      ]
    },
    {
      "cell_type": "markdown",
      "metadata": {
        "id": "2vonbXOxXpQH"
      },
      "source": [
        "2 - Print the message below\n",
        "\n",
        "     Emergency Alert\n",
        "     NEWS : FLASH FLOOD WARNING this area till 7:00 PM"
      ]
    },
    {
      "cell_type": "code",
      "metadata": {
        "id": "D4Iacgy_m61W",
        "colab": {
          "base_uri": "https://localhost:8080/"
        },
        "outputId": "4a085d08-635b-4141-d765-7f659c5816db"
      },
      "source": [
        "print(\"Emergency Alert\")\n",
        "print(\"NEWS : FLASH FLOOD WARNING this area till 7:00 PM\")"
      ],
      "execution_count": 2,
      "outputs": [
        {
          "output_type": "stream",
          "name": "stdout",
          "text": [
            "Emergency Alert\n",
            "NEWS : FLASH FLOOD WARNING this area till 7:00 PM\n"
          ]
        }
      ]
    },
    {
      "cell_type": "markdown",
      "metadata": {
        "id": "lRuqg-hamQGT"
      },
      "source": [
        "### Arithmetic Operators and Variables"
      ]
    },
    {
      "cell_type": "markdown",
      "metadata": {
        "id": "j1-O0lZgX3K1"
      },
      "source": [
        "3 - Take a number and divide it by 2, then take the output and divide it by 2, and again divide by 2. Use variables.\n",
        "\n",
        "\n",
        "    Example\n",
        "    input : 2000\n",
        "    output is: 1000 500 250\n",
        "\n"
      ]
    },
    {
      "cell_type": "code",
      "metadata": {
        "id": "3zsVDZcyl2l0",
        "colab": {
          "base_uri": "https://localhost:8080/"
        },
        "outputId": "ffeeda87-1aa4-48dc-db9f-ee83fba6dcac"
      },
      "source": [
        "number = input()\n",
        "number = int(number)\n",
        "\n",
        "number_one = number//2\n",
        "number_two = number_one//2\n",
        "number_three = number_two//2\n",
        "\n",
        "print(\"Input is : {}\".format(number))\n",
        "\n",
        "print(\"Output is: {} {} {}\".format(number_one,number_two,number_three))\n",
        "\n",
        "\n"
      ],
      "execution_count": 10,
      "outputs": [
        {
          "output_type": "stream",
          "name": "stdout",
          "text": [
            "2000\n",
            "Input is : 2000\n",
            "Output is: 1000 500 250\n"
          ]
        }
      ]
    },
    {
      "cell_type": "markdown",
      "metadata": {
        "id": "deaFrnkLYGhJ"
      },
      "source": [
        "4 - Given three number x, y, and z,\n",
        "\n",
        "\n",
        "       Output: x to the power of z,\n",
        "               x to the power of y,\n",
        "               x minus y,\n",
        "               remainder value when x is divided by z"
      ]
    },
    {
      "cell_type": "code",
      "metadata": {
        "id": "4SZRBko7mvc-",
        "colab": {
          "base_uri": "https://localhost:8080/"
        },
        "outputId": "1fcad33f-b6cd-45f9-c8db-04b9490e3f6d"
      },
      "source": [
        "x = int(input())\n",
        "y = int(input())\n",
        "z = int(input())\n",
        "\n",
        "print(x ** z)\n",
        "print(x ** y)\n",
        "print(x - y)\n",
        "print(x%z)\n",
        "\n"
      ],
      "execution_count": 11,
      "outputs": [
        {
          "output_type": "stream",
          "name": "stdout",
          "text": [
            "2\n",
            "3\n",
            "5\n",
            "32\n",
            "8\n",
            "-1\n",
            "2\n"
          ]
        }
      ]
    },
    {
      "cell_type": "markdown",
      "metadata": {
        "id": "GE9xk6_TYcYN"
      },
      "source": [
        "5 - Add\n",
        "\n",
        "        4 quarters (0.25),  3 dimes (0.10), 2 nickels (0.5) and 1 cent\n",
        "        Output:  the total amount as dollars and cents."
      ]
    },
    {
      "cell_type": "code",
      "metadata": {
        "id": "UXZC9qSQsX9_",
        "colab": {
          "base_uri": "https://localhost:8080/"
        },
        "outputId": "6a298dc6-1b49-45a1-b6e6-94bebe6d53ec"
      },
      "source": [
        "quarter = .25\n",
        "dime = .10\n",
        "nickel = .05\n",
        "penny = .01\n",
        "\n",
        "total = 4 * quarter + 3 * dime + 2 * nickel + 1 * penny\n",
        "\n",
        "print(\"${r:1.2f}\".format(r = total))\n",
        "\n"
      ],
      "execution_count": 16,
      "outputs": [
        {
          "output_type": "stream",
          "name": "stdout",
          "text": [
            "$1.41\n"
          ]
        }
      ]
    },
    {
      "cell_type": "markdown",
      "metadata": {
        "id": "O618MLtRtynL"
      },
      "source": [
        "### Strings"
      ]
    },
    {
      "cell_type": "markdown",
      "metadata": {
        "id": "iXtnKBx8Ywy_"
      },
      "source": [
        "6 - Given the string **Python**, with the help of slicing, get **o**."
      ]
    },
    {
      "cell_type": "code",
      "metadata": {
        "id": "EOD6mIiTtOzx",
        "colab": {
          "base_uri": "https://localhost:8080/",
          "height": 36
        },
        "outputId": "4b79589c-5b9f-4c7a-ee28-1488ca882654"
      },
      "source": [
        "string = \"Python\"\n",
        "string[4]\n"
      ],
      "execution_count": 17,
      "outputs": [
        {
          "output_type": "execute_result",
          "data": {
            "text/plain": [
              "'o'"
            ],
            "application/vnd.google.colaboratory.intrinsic+json": {
              "type": "string"
            }
          },
          "metadata": {},
          "execution_count": 17
        }
      ]
    },
    {
      "cell_type": "markdown",
      "metadata": {
        "id": "mgnqbERkY3-J"
      },
      "source": [
        "7 - Given the string **Python**, with the help of slicing get,  **tho**."
      ]
    },
    {
      "cell_type": "code",
      "metadata": {
        "id": "7R58ftspuJK3",
        "colab": {
          "base_uri": "https://localhost:8080/",
          "height": 36
        },
        "outputId": "4d4c3347-136e-45da-dc61-d6ff5544ed16"
      },
      "source": [
        "string = \"Python\"\n",
        "string[2:5]\n"
      ],
      "execution_count": 25,
      "outputs": [
        {
          "output_type": "execute_result",
          "data": {
            "text/plain": [
              "'tho'"
            ],
            "application/vnd.google.colaboratory.intrinsic+json": {
              "type": "string"
            }
          },
          "metadata": {},
          "execution_count": 25
        }
      ]
    },
    {
      "cell_type": "markdown",
      "metadata": {
        "id": "U2g51swGY9Hf"
      },
      "source": [
        "8 - Given the string **Python Class**, with the help of slicing, get **Class**."
      ]
    },
    {
      "cell_type": "code",
      "metadata": {
        "id": "sOUYJA0FuN78",
        "colab": {
          "base_uri": "https://localhost:8080/",
          "height": 36
        },
        "outputId": "510b38c5-466d-46a7-f0c3-17acc4a7b5de"
      },
      "source": [
        "string = \"Python Class\"\n",
        "string[7:]\n"
      ],
      "execution_count": 26,
      "outputs": [
        {
          "output_type": "execute_result",
          "data": {
            "text/plain": [
              "'Class'"
            ],
            "application/vnd.google.colaboratory.intrinsic+json": {
              "type": "string"
            }
          },
          "metadata": {},
          "execution_count": 26
        }
      ]
    },
    {
      "cell_type": "markdown",
      "metadata": {
        "id": "tLycBhPYZHsC"
      },
      "source": [
        "9 - Find the length of the String  **Welcome to Pace University**"
      ]
    },
    {
      "cell_type": "code",
      "metadata": {
        "id": "YIERKBvluUdA",
        "colab": {
          "base_uri": "https://localhost:8080/"
        },
        "outputId": "d1b51d7e-2c12-44a2-fa53-21f74bc31390"
      },
      "source": [
        "string = \"Welcome to Pace University\"\n",
        "len(string)\n"
      ],
      "execution_count": 27,
      "outputs": [
        {
          "output_type": "execute_result",
          "data": {
            "text/plain": [
              "26"
            ]
          },
          "metadata": {},
          "execution_count": 27
        }
      ]
    },
    {
      "cell_type": "markdown",
      "metadata": {
        "id": "l7SqRwF7ZNp8"
      },
      "source": [
        "10 - Split the String  **Welcome to Pace University**  into words"
      ]
    },
    {
      "cell_type": "code",
      "metadata": {
        "id": "1SBnxastueix",
        "colab": {
          "base_uri": "https://localhost:8080/"
        },
        "outputId": "48a460ce-1de2-4883-e207-553dd8fa7ead"
      },
      "source": [
        "from re import split\n",
        "\n",
        "string = \"Welcome to Pace University\"\n",
        "string.split()\n"
      ],
      "execution_count": 28,
      "outputs": [
        {
          "output_type": "execute_result",
          "data": {
            "text/plain": [
              "['Welcome', 'to', 'Pace', 'University']"
            ]
          },
          "metadata": {},
          "execution_count": 28
        }
      ]
    },
    {
      "cell_type": "markdown",
      "metadata": {
        "id": "YK8s1_BYZSyO"
      },
      "source": [
        "11 - Replace the letter  **i**  with  **o**  in  **Artificial intelligence**"
      ]
    },
    {
      "cell_type": "code",
      "metadata": {
        "id": "EDO4NXUUuoOm",
        "colab": {
          "base_uri": "https://localhost:8080/",
          "height": 36
        },
        "outputId": "42fb8f00-bfc6-4096-94c5-a0f225f5d303"
      },
      "source": [
        "string = \"Artificial intelligence\"\n",
        "\n",
        "string.replace(\"i\",\"o\")\n"
      ],
      "execution_count": 33,
      "outputs": [
        {
          "output_type": "execute_result",
          "data": {
            "text/plain": [
              "'Artofocoal ontellogence'"
            ],
            "application/vnd.google.colaboratory.intrinsic+json": {
              "type": "string"
            }
          },
          "metadata": {},
          "execution_count": 33
        }
      ]
    },
    {
      "cell_type": "markdown",
      "metadata": {
        "id": "VLMrFwqhZeNz"
      },
      "source": [
        "12 - convert the text  **DATA Science**  into lower case ( as **data science**)"
      ]
    },
    {
      "cell_type": "code",
      "metadata": {
        "id": "T7NONPC-u94X",
        "colab": {
          "base_uri": "https://localhost:8080/",
          "height": 36
        },
        "outputId": "72c9fe7f-5254-45bb-86d8-73ca64b8a74d"
      },
      "source": [
        "string = \"DATA Science\"\n",
        "string.lower()\n"
      ],
      "execution_count": 35,
      "outputs": [
        {
          "output_type": "execute_result",
          "data": {
            "text/plain": [
              "'data science'"
            ],
            "application/vnd.google.colaboratory.intrinsic+json": {
              "type": "string"
            }
          },
          "metadata": {},
          "execution_count": 35
        }
      ]
    },
    {
      "cell_type": "markdown",
      "metadata": {
        "id": "4EHx_9ycZkwh"
      },
      "source": [
        "13 - convert the text  **DATA Science**  into UPPER case ( as **DATA SCIENCE**)"
      ]
    },
    {
      "cell_type": "code",
      "metadata": {
        "id": "Tg1-wbUPvUYI",
        "colab": {
          "base_uri": "https://localhost:8080/",
          "height": 36
        },
        "outputId": "30ab011b-6ad8-497d-935f-1a43fd02e131"
      },
      "source": [
        "string = \"DATA Science\"\n",
        "string.upper()\n",
        "\n"
      ],
      "execution_count": 36,
      "outputs": [
        {
          "output_type": "execute_result",
          "data": {
            "text/plain": [
              "'DATA SCIENCE'"
            ],
            "application/vnd.google.colaboratory.intrinsic+json": {
              "type": "string"
            }
          },
          "metadata": {},
          "execution_count": 36
        }
      ]
    },
    {
      "cell_type": "markdown",
      "metadata": {
        "id": "STL6BSOOZ44L"
      },
      "source": [
        "14 - reverse the given String  **Artificial intelligence**"
      ]
    },
    {
      "cell_type": "code",
      "metadata": {
        "id": "CJPPWcOgvdWN",
        "colab": {
          "base_uri": "https://localhost:8080/",
          "height": 36
        },
        "outputId": "be0926c0-3e9c-4834-d24c-42dbf2ad15c0"
      },
      "source": [
        "string = \"Artificial intelligence\"\n",
        "string[::-1]\n",
        "\n",
        "\n",
        "\n"
      ],
      "execution_count": 71,
      "outputs": [
        {
          "output_type": "execute_result",
          "data": {
            "text/plain": [
              "'ecnegilletni laicifitrA'"
            ],
            "application/vnd.google.colaboratory.intrinsic+json": {
              "type": "string"
            }
          },
          "metadata": {},
          "execution_count": 71
        }
      ]
    },
    {
      "cell_type": "markdown",
      "metadata": {
        "id": "TU_sm0SsoGXV"
      },
      "source": [
        "###Comparision Operators"
      ]
    },
    {
      "cell_type": "markdown",
      "metadata": {
        "id": "XJYziySoaAdz"
      },
      "source": [
        "15 - Compare two number a =150, b = 225 and print if they are:\n",
        "\n",
        "        equal,\n",
        "        greater,\n",
        "        greater than or equal to,\n",
        "        less,\n",
        "        less than or equal to,  \n",
        "        not equal\n",
        "       \n",
        "        example : a < b\n",
        "                  print(\"a is less than b\")"
      ]
    },
    {
      "cell_type": "code",
      "metadata": {
        "id": "4qFJzGo3wIsC",
        "colab": {
          "base_uri": "https://localhost:8080/"
        },
        "outputId": "bb6d1994-896b-4d19-9876-47987c9d31d9"
      },
      "source": [
        "a = 150\n",
        "b = 225\n",
        "\n",
        "if(a>b):\n",
        "  print(\"a is greater than b\")\n",
        "elif(a == b):\n",
        "  print(\"a and b are equal\")\n",
        "else:\n",
        "  print(\"a is less than b\")"
      ],
      "execution_count": 37,
      "outputs": [
        {
          "output_type": "stream",
          "name": "stdout",
          "text": [
            "a is less than b\n"
          ]
        }
      ]
    },
    {
      "cell_type": "markdown",
      "metadata": {
        "id": "8kbRYQGy3fsq"
      },
      "source": [
        "###Lists"
      ]
    },
    {
      "cell_type": "markdown",
      "metadata": {
        "id": "UeK6ZxU53cZF"
      },
      "source": [
        "16 - Create a **list** of **lists** of integers elements"
      ]
    },
    {
      "cell_type": "code",
      "metadata": {
        "id": "GdMdQwi33cB5",
        "colab": {
          "base_uri": "https://localhost:8080/"
        },
        "outputId": "9e97144f-b13c-4fb4-e85c-ea5a33a972b4"
      },
      "source": [
        "integers = [2, 3, 5]\n",
        "integers"
      ],
      "execution_count": 39,
      "outputs": [
        {
          "output_type": "execute_result",
          "data": {
            "text/plain": [
              "[2, 3, 5]"
            ]
          },
          "metadata": {},
          "execution_count": 39
        }
      ]
    },
    {
      "cell_type": "markdown",
      "metadata": {
        "id": "pWriOAll3sCF"
      },
      "source": [
        "17 - Create a **list** of **lists** of Text elements"
      ]
    },
    {
      "cell_type": "code",
      "metadata": {
        "id": "eCXFxSi13rXa",
        "colab": {
          "base_uri": "https://localhost:8080/"
        },
        "outputId": "4146db41-32ca-47d9-e8d6-801ca7c4ff69"
      },
      "source": [
        "strings = [\"I\", \"Like\", \"Pizza\"]\n",
        "strings"
      ],
      "execution_count": 40,
      "outputs": [
        {
          "output_type": "execute_result",
          "data": {
            "text/plain": [
              "['I', 'Like', 'Pizza']"
            ]
          },
          "metadata": {},
          "execution_count": 40
        }
      ]
    },
    {
      "cell_type": "markdown",
      "metadata": {
        "id": "8zC2JP7i3ubU"
      },
      "source": []
    }
  ]
}